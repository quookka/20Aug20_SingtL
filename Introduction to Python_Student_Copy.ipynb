{
 "cells": [
  {
   "cell_type": "markdown",
   "metadata": {},
   "source": [
    "<img src=\"./vi_logo.png\" style=\"float: left; margin: 10px; height: 45px\">\n",
    "\n",
    "# Vertical Institute Data Science 101\n",
    "# Lesson 1: Introduction to Python"
   ]
  },
  {
   "cell_type": "markdown",
   "metadata": {},
   "source": [
    "\n",
    "### Learning Objectives\n",
    "\n",
    "#### Python Data Types\n",
    "**At the end of this lesson, you should understand:**\n",
    "- Overview of Python and Its Syntax.\n",
    "- Define integers, strings, booleans, tuples, lists, and dictionaries.\n",
    "- Variables, Operators and Arithmetic Expressions"
   ]
  },
  {
   "cell_type": "markdown",
   "metadata": {},
   "source": [
    "### Lesson Guide\n",
    "- [Jupyter Notebook](#jupyter_nb)\n",
    "- [Introduction to Data Types](#intro)\n",
    "- [Python Variables](#variables)\n",
    "- [In-built Functions](#ibf)\n",
    "- [Operators](#operators)\n",
    "- [Integers and Floats](#numbers)\n",
    "- [Strings](#strings)\n",
    "- [Lists](#lists)\n",
    "- [Dictionaries](#dictionary)\n",
    "- [Tuples](#tuples)\n",
    "- [None](#none)\n",
    "- [Casting](#casting)\n",
    "\n",
    "----"
   ]
  },
  {
   "cell_type": "markdown",
   "metadata": {},
   "source": [
    "---\n",
    "\n",
    "<a id='jupyter_nb'></a>\n",
    "## Jupyter Notebook\n",
    "\n",
    "Jupyter (or iPython) Notebooks are ideal environments to run Python code. Just like a notebook, you are encouraged to write personal learning notes as we go along\n",
    "\n",
    "Code cells are run by pressing `shift + enter` or using the Play button in the toolbar."
   ]
  },
  {
   "cell_type": "markdown",
   "metadata": {},
   "source": [
    "Key buttons\n",
    "- New code cell\n",
    "- Cut, copy, paste\n",
    "- Move cell up and down\n",
    "- Run\n",
    "- Kernel > Restart & Clear All Output"
   ]
  },
  {
   "cell_type": "code",
   "execution_count": null,
   "metadata": {},
   "outputs": [],
   "source": [
    "# This is a cell."
   ]
  },
  {
   "cell_type": "code",
   "execution_count": null,
   "metadata": {},
   "outputs": [],
   "source": [
    "# To run this cell, either click the 'Run' button above \n",
    "# or use the shortcut 'Shift-Enter'\n",
    "print('Welcome!')"
   ]
  },
  {
   "cell_type": "markdown",
   "metadata": {},
   "source": [
    "### Comments\n",
    "Comments are instructions that get ignored by the Python interpreter, making them the perfect tool to annotate our code"
   ]
  },
  {
   "cell_type": "code",
   "execution_count": null,
   "metadata": {},
   "outputs": [],
   "source": [
    "# You might have noticed that lines starting with \n",
    "#'#' are comments in gray\n",
    "# Python ignores these lines\n",
    "# Comments are important as they allow us to annotate our code with personal notes."
   ]
  },
  {
   "cell_type": "markdown",
   "metadata": {},
   "source": [
    "### Errors\n",
    "Errors are part and parcel of programming. Errors are a useful feedback mechanism that usually tells us which part of our code needs fixing."
   ]
  },
  {
   "cell_type": "code",
   "execution_count": null,
   "metadata": {},
   "outputs": [],
   "source": [
    "# If you forgot to add '#', Python assumes you giving it coding instructions\n",
    "For example, running this code block should throw an error."
   ]
  },
  {
   "cell_type": "code",
   "execution_count": null,
   "metadata": {},
   "outputs": [],
   "source": [
    "# Speaking of errors...\n",
    "# Errors are a common thing to see when you're coding\n",
    "# Often, Python's error message gives us hints on what to fix in our code\n",
    "print('Something about this line is incorrect...'"
   ]
  },
  {
   "cell_type": "code",
   "execution_count": null,
   "metadata": {},
   "outputs": [],
   "source": [
    "# Write code to print \"Hello, {your name}\""
   ]
  },
  {
   "cell_type": "code",
   "execution_count": null,
   "metadata": {},
   "outputs": [],
   "source": [
    "# Try running this code. \n",
    "# Use the hint in the error message to fix the code\n",
    "print 'What went wrong?'"
   ]
  },
  {
   "cell_type": "markdown",
   "metadata": {},
   "source": [
    "---\n",
    "\n",
    "<a id='intro'></a>\n",
    "## Introduction: Python Data Types\n",
    "\n",
    "There are several _basic_ data types within Python, the six most common being:\n",
    "\n",
    "**Integers:** Whole numbers from negative infinity to infinity, such as 1, 0, -5, etc.\n",
    "\n",
    "**Floats:** Short for \"floating point number,\" usually used with decimals such as 2.8 or 3.14159.\n",
    "\n",
    "**Strings:** A set of letters, numbers, or other characters, e.g., \"The fox is quick.\"\n",
    "\n",
    "**Tuples:** An ordered sequence with a fixed number of elements, e.g., in x = (1, 2, 3), the parentheses makes it a tuple. x = (\"Kirk\", \"Picard\", \"Spock\")\n",
    "\n",
    "**Lists:** An ordered sequence without a fixed number of elements, e.g., x = [1, 2, 3]. Note the square brackets. x = [\"Lord\", \"of\", \"the\", \"Rings\"]\n",
    "\n",
    "**Dictionaries**: An unordered collection of key-value pairs, e.g., x = {'Mark': 'Twain', 'Apples': 5}. To retrieve each value (the part after each colon), use its key (the part before each colon). For example, x['Apples'] retrieves the value 5.\n",
    "\n",
    "**None** : A data type representing null/nothing\n",
    "\n",
    "Throughout this lesson, we will review each data type more in depth and discuss common ways of interacting with each of them.\n",
    "\n",
    "[Python's basic data types](https://en.wikiversity.org/wiki/Python/Basic_data_types)."
   ]
  },
  {
   "cell_type": "markdown",
   "metadata": {},
   "source": [
    "<a id='variables'></a>\n",
    "## Variables\n",
    "\n",
    "Variables are names that have been assigned to specific values or data. These names can be almost anything you want, but there are some restrictions and best practices.\n",
    "\n",
    "**Restrictions**\n",
    "- Variable names cannot be just a number (i.e., `2`, `0.01`, `10000`).\n",
    "- Variables cannot be assigned the same name as a default or imported function (i.e., '`type`', '`print`', '`for`').\n",
    "- Variable names cannot contain spaces.\n",
    "\n",
    "**Best Practices**\n",
    "- Variable names should be lowercase.\n",
    "- A variable's name should be representative of the value(s) it has been assigned.\n",
    "- If you must use multiple words in your variable name, use an underscore to separate them."
   ]
  },
  {
   "cell_type": "code",
   "execution_count": 1,
   "metadata": {},
   "outputs": [],
   "source": [
    "# This is an example of a variable\n",
    "# We have assigned a variable named x, with the value of 9.\n",
    "x=9"
   ]
  },
  {
   "cell_type": "code",
   "execution_count": null,
   "metadata": {},
   "outputs": [],
   "source": [
    "# Anytime we call x, we will print out that value (9) assigned to this variable\n",
    "print(x)"
   ]
  },
  {
   "cell_type": "code",
   "execution_count": 2,
   "metadata": {},
   "outputs": [],
   "source": [
    "#what happens if we want to assign another variable contains 10 ? \n",
    "x = 9 \n",
    "\n",
    "#Ideally, we will re-assign another variable to contain it. \n",
    "y = 10"
   ]
  },
  {
   "cell_type": "markdown",
   "metadata": {},
   "source": [
    "***Exercise 1***\n",
    "\n",
    "Let's try to sum up the 2 variables together and produce the result : \n",
    "\n"
   ]
  },
  {
   "cell_type": "code",
   "execution_count": 4,
   "metadata": {},
   "outputs": [],
   "source": [
    "#Answer Exercise 1"
   ]
  },
  {
   "cell_type": "code",
   "execution_count": 5,
   "metadata": {},
   "outputs": [
    {
     "name": "stdout",
     "output_type": "stream",
     "text": [
      "17\n"
     ]
    }
   ],
   "source": [
    "# If needed, we can also overwrite the value of x by reassigning a new value.\n",
    "x=17\n",
    "print(x)"
   ]
  },
  {
   "cell_type": "code",
   "execution_count": 6,
   "metadata": {},
   "outputs": [
    {
     "name": "stdout",
     "output_type": "stream",
     "text": [
      "18\n",
      "5.666666666666667\n",
      "8\n"
     ]
    }
   ],
   "source": [
    "# Variables allow us to encode more complex ideas. \n",
    "# Here are some simple algebraic representations using our variable x.\n",
    "print(x+1)\n",
    "print(x/3)\n",
    "print(x//2)"
   ]
  },
  {
   "cell_type": "code",
   "execution_count": 7,
   "metadata": {},
   "outputs": [
    {
     "name": "stdout",
     "output_type": "stream",
     "text": [
      "18\n"
     ]
    }
   ],
   "source": [
    "# We can also reassign the value using an equation, instead of an explicit value\n",
    "x = x+1 # We increment the current x by 1 = 18. Then reassign 18 to x.\n",
    "print(x)"
   ]
  },
  {
   "cell_type": "code",
   "execution_count": null,
   "metadata": {},
   "outputs": [],
   "source": [
    "# A shortform of this increment assignment is the += operator\n",
    "# This works for -= /= *= as well. Feel free to try it out.\n",
    "x += 1 # We increment the current x by 1 = 19. Then reassign 19 to x\n",
    "print(x)"
   ]
  },
  {
   "cell_type": "markdown",
   "metadata": {},
   "source": [
    "<a id='ibf'></a>\n",
    "## In-built Functions\n",
    "Functions are statements that run a specific computation on the input you give it. Functions are identifiable by the function name followed by round brackets.\n",
    "\n",
    "Eg: print(3) is the print function which was given the input of 3"
   ]
  },
  {
   "cell_type": "markdown",
   "metadata": {},
   "source": [
    "There are many in-built functions in Python which we will slowly introduce to the class. You are already familiar with print(), now let's learn about type().\n",
    "\n",
    "type() returns the data type of the given input."
   ]
  },
  {
   "cell_type": "code",
   "execution_count": null,
   "metadata": {},
   "outputs": [],
   "source": [
    "# Assigning a float:\n",
    "x = 1.0\n",
    "type(x)"
   ]
  },
  {
   "cell_type": "code",
   "execution_count": null,
   "metadata": {},
   "outputs": [],
   "source": [
    "# Assigning an int:\n",
    "y = 1\n",
    "type(y)"
   ]
  },
  {
   "cell_type": "code",
   "execution_count": null,
   "metadata": {},
   "outputs": [],
   "source": [
    "# Assigning a string:\n",
    "z = '1'\n",
    "type(z)"
   ]
  },
  {
   "cell_type": "code",
   "execution_count": null,
   "metadata": {},
   "outputs": [],
   "source": [
    "#Assigning a boolean:\n",
    "valid = True\n",
    "type(valid)"
   ]
  },
  {
   "cell_type": "markdown",
   "metadata": {},
   "source": [
    "**It is critical to remember that, when we're assigning variables, we are not stating that \"_x equals 1_,\" we're stating that \"_x has been assigned the value of 1_.\"**"
   ]
  },
  {
   "cell_type": "markdown",
   "metadata": {},
   "source": [
    "<a id='operators'></a>\n",
    "## Operators\n",
    "\n",
    "\"Operators are the constructs (that) can manipulate the value of operands.\" — [Tutorials Point: Python](https://www.tutorialspoint.com/python/python_basic_operators.htm)"
   ]
  },
  {
   "cell_type": "markdown",
   "metadata": {},
   "source": [
    "### Arithmetic Operators"
   ]
  },
  {
   "cell_type": "markdown",
   "metadata": {},
   "source": [
    "<table>\n",
    "    <thead>\n",
    "        <tr>\n",
    "            <th><font size=\"+2\"> Operator</font></th>\n",
    "            <th><font size=\"+2\"> Description</font></th>\n",
    "            <th><font size=\"+2\"> Example</font></th>\n",
    "\n",
    "  </thead>     \n",
    "\n",
    "<tr>\n",
    "    <td> <font size=\"+1\"> + </font></td>\n",
    "    <td> <font size=\"+1\"> Add</font> </td>\n",
    "    <td> <font size=\"+1\"> 8 + 2 = 10 </font></td>\n",
    "\n",
    "</tr>\n",
    "\n",
    "<tr>\n",
    "    <td><font size=\"+1\">- </font></td>\n",
    "    <td><font size=\"+1\"> Subtract</font> </td>\n",
    "    <td><font size=\"+1\">  8 - 2 = 6</font></td>\n",
    "\n",
    "</tr>\n",
    "\n",
    "\n",
    "<tr>\n",
    "        <td><font size=\"+1\"> *  </font></td>\n",
    "    <td><font size=\"+1\"> Multiply </font></td>\n",
    "    <td><font size=\"+1\"> 8 * 2 = 16 </font></td>\n",
    "\n",
    "</tr>\n",
    "\n",
    "<tr>\n",
    "    <td><font size=\"+1\"> / </font></td>\n",
    "    <td><font size=\"+1\"> Floating-point divide </font></td>\n",
    "    <td><font size=\"+1\"> 8/2 = 4</font></td>\n",
    "      \n",
    "</tr>\n",
    "\n",
    "<tr>\n",
    "    <td>  </td> \n",
    "    <td>  </td> \n",
    "    <td><font size=\"+1\"> 9/2 = 4.5 </font></td>\n",
    "</tr>\n",
    "\n",
    "\n",
    "<tr>\n",
    "    <td><font size=\"+1\"> // </font></td>\n",
    "    <td><font size=\"+1\"> Integer divide </font></td>\n",
    "    <td><font size=\"+1\"> 9//2 = 4</font></td>\n",
    "      \n",
    "</tr>\n",
    "\n",
    "<tr>\n",
    "    <td><font size=\"+1\"> % </font></td>\n",
    "    <td><font size=\"+1\"> Modulus - Remainder when num 1 is divided by num 2 </font></td>\n",
    "    <td><font size=\"+1\"> 8%2 = 0</font></td>\n",
    "      \n",
    "</tr>\n",
    "\n",
    "<tr>\n",
    "    <td>  </td> \n",
    "    <td>  </td> \n",
    "    <td><font size=\"+1\"> 9%2 = 1 </font></td>\n",
    "</tr>\n",
    "\n",
    "<tr>\n",
    "    <td><font size=\"+1\"> ** </font></td>\n",
    "    <td><font size=\"+1\"> Exponentiation </font></td>\n",
    "    <td><font size=\"+1\"> 8**2 = 64</font></td>\n",
    "      \n",
    "</tr>\n",
    "\n",
    "\n",
    "\n",
    "\n",
    "\n",
    "</table>"
   ]
  },
  {
   "cell_type": "markdown",
   "metadata": {},
   "source": [
    "## Python as a powerful calculator\n",
    "\n",
    "One of the best uses of Python is as a **powerful and expressive** calculator."
   ]
  },
  {
   "cell_type": "code",
   "execution_count": null,
   "metadata": {},
   "outputs": [],
   "source": [
    "# Basic math operations\n",
    "print(2 + 5)\n",
    "print(3 - 10)\n",
    "print(2 * 13)\n",
    "print(20/4)"
   ]
  },
  {
   "cell_type": "code",
   "execution_count": null,
   "metadata": {},
   "outputs": [],
   "source": [
    "# We can use brackets to express more complex operations\n",
    "(50 - 5*6) / 4"
   ]
  },
  {
   "cell_type": "code",
   "execution_count": null,
   "metadata": {},
   "outputs": [],
   "source": [
    "# For special use cases, Python gives us some advanced operators\n",
    "print(17 / 3)  # classic division\n",
    "\n",
    "print(17 // 3)  # floor division discards the fractional part\n",
    "\n",
    "print(17 % 3)  # the % operator returns the remainder of the division"
   ]
  },
  {
   "cell_type": "code",
   "execution_count": null,
   "metadata": {},
   "outputs": [],
   "source": [
    "# Calculate 2 to the power of 4\n",
    "print(2**4)"
   ]
  },
  {
   "cell_type": "markdown",
   "metadata": {},
   "source": [
    "***Exercise 2***\n",
    "\n",
    "-Given variable radius is 3.0\n",
    "\n",
    "-Compute the variable area of the circle with this formula radius x radius x pi. Given pi = 3.14. ** \n",
    "\n",
    "-Print this message in this synax : (The area is\", insert the area variable,\"using radius\", insert the variable of radius  )"
   ]
  },
  {
   "cell_type": "code",
   "execution_count": null,
   "metadata": {},
   "outputs": [],
   "source": [
    "#Answer 2 "
   ]
  },
  {
   "cell_type": "markdown",
   "metadata": {},
   "source": [
    "### Relational Operators"
   ]
  },
  {
   "cell_type": "markdown",
   "metadata": {},
   "source": [
    "Operators can also be used to compare integers"
   ]
  },
  {
   "cell_type": "markdown",
   "metadata": {},
   "source": [
    "<table>\n",
    "    <thead>\n",
    "        <tr>\n",
    "            <th><font size=\"+2\"> Operator</font></th>\n",
    "            <th><font size=\"+2\"> Description</font></th>\n",
    "            <th><font size=\"+2\"> Example</font></th>\n",
    "    </thead>     \n",
    "\n",
    "<tr>\n",
    "    <td> <font size=\"+1\"> == </font></td>\n",
    "    <td> <font size=\"+1\"> Equal </font> </td> \n",
    "    <td> <font size=\"+1\"> <p style=\"text-align:justify\"> 8 == 8 returns True </p></font></td> \n",
    "\n",
    "</tr>\n",
    "\n",
    "<tr>\n",
    "    <td>  </td> \n",
    "    <td>  </td>\n",
    "    <td> <font size=\"+1\">  <p style=\"text-align:justify\">8 == 9 returns False </p></font></td> \n",
    "</tr>\n",
    "\n",
    "<tr> \n",
    "    <td> <font size=\"+1\"> != </font></td>\n",
    "    <td> <font size=\"+1\"> Not Equal </font> </td>\n",
    "    <td> <font size=\"+1\">  <p style=\"text-align:justify\">8 != 8 returns False </font></td> \n",
    "</tr>\n",
    "\n",
    "<tr>\n",
    "    <td>  </td> \n",
    "    <td>  </td>\n",
    "    <td> <font size=\"+1\"> <p style=\"text-align:justify\"> 8 != 9 returns True </font></td> \n",
    "</tr>\n",
    "\n",
    "<tr> \n",
    "    <td> <font size=\"+1\"> > </font></td>\n",
    "    <td> <font size=\"+1\"> Greater Than </font> </td>\n",
    "    <td> <font size=\"+1\"> <p style=\"text-align:justify\"> 8>8 returns False </font></td> \n",
    "</tr>\n",
    "\n",
    "<tr>\n",
    "    <td>  </td> \n",
    "    <td>  </td>\n",
    "    <td> <font size=\"+1\">  <p style=\"text-align:justify\">9 > 8 returns True </font></td> \n",
    "</tr>\n",
    "\n",
    "<tr> \n",
    "    <td> <font size=\"+1\"> >= </font></td>\n",
    "    <td> <font size=\"+1\"> Greater Than or Equal </font> </td>\n",
    "    <td> <font size=\"+1\"> <p style=\"text-align:justify\"> 8>=8 returns True </font></td> \n",
    "</tr>\n",
    "\n",
    "<tr>\n",
    "    <td>  </td> \n",
    "    <td>  </td>\n",
    "    <td> <font size=\"+1\">  <p style=\"text-align:justify\">9 >= 8 returns True </font></td> \n",
    "</tr>\n",
    "\n",
    "\n",
    "<tr> \n",
    "    <td> <font size=\"+1\"> &#60; </font></td>\n",
    "    <td> <font size=\"+1\"> LessThan </font> </td>\n",
    "    <td> <font size=\"+1\"> 8&#60;8 returns False </font></td> \n",
    "</tr>\n",
    "\n",
    "<tr>\n",
    "    <td>  </td> \n",
    "    <td>  </td>\n",
    "    <td> <font size=\"+1\"> 8&#60;9 returns True </font></td> \n",
    "</tr>\n",
    "\n",
    "\n",
    "<tr> \n",
    "    <td> <font size=\"+1\"> &#60; = </font></td>\n",
    "    <td> <font size=\"+1\"> Less Than or Equal </font> </td>\n",
    "    <td> <font size=\"+1\"> 8&#60; = 8 returns True </font></td> \n",
    "</tr>\n",
    "\n",
    "<tr>\n",
    "    <td>  </td> \n",
    "    <td>  </td>\n",
    "    <td> <font size=\"+1\">8&#60; = 9 returns True </font></td> \n",
    "</tr>\n",
    "\n",
    "\n",
    "</table>"
   ]
  },
  {
   "cell_type": "markdown",
   "metadata": {},
   "source": [
    "print (1 < 2)\n",
    "print (1 > 2)\n",
    "print (1==1)\n",
    "print (1!=1)\n"
   ]
  },
  {
   "cell_type": "markdown",
   "metadata": {},
   "source": [
    "***Tips*** \n",
    "    \n",
    "- To get input values from other user. \n",
    "\n",
    "\n",
    "- Use this input syntax:\n",
    "\n",
    "input(\" Your message to be printed: \")\n",
    "\n",
    "Next, if you are asking the user to input values that is integer only. \n",
    "\n",
    "- Use this syntax \n",
    "\n",
    "int(input(\"Your message to be printed:\")\n"
   ]
  },
  {
   "cell_type": "markdown",
   "metadata": {},
   "source": [
    "***Exercise 3 ***\n",
    "\n",
    "- Your are going to create a mini program asking a user to key in the correct password. \n",
    "\n",
    "- The correct password is 10. \n"
   ]
  },
  {
   "cell_type": "markdown",
   "metadata": {},
   "source": [
    "### Logical Operators"
   ]
  },
  {
   "cell_type": "markdown",
   "metadata": {},
   "source": [
    "**Boolean Evaluation Operators** \n",
    "\n",
    "Booleans exist as either true or false and are generally used as a means of evaluation. Boolean truth values shown on the table below."
   ]
  },
  {
   "cell_type": "markdown",
   "metadata": {},
   "source": [
    "<!DOCTYPE html>\n",
    "<html>\n",
    "<head>\n",
    "<style>\n",
    "table,  th, td {\n",
    "  border: 2px solid black;\n",
    "}\n",
    "    </style>\n",
    "\n",
    "<table>\n",
    "    <thead>\n",
    "        <tr>\n",
    "            <th><font size=\"+2\">x</font></th>\n",
    "            <th><font size=\"+2\"> y</font></th>\n",
    "            <th><font size=\"+2\"> x and y </font></th>\n",
    "            <th><font size=\"+2\"> x or y </font></th>\n",
    "            <th><font size=\"+2\">not x </font></th>\n",
    "\n",
    "   </thead>     \n",
    "\n",
    "<tr>\n",
    "    <td> <font size=\"+1\"> True </font></td>\n",
    "    <td> <font size=\"+1\"> True </font> </td> \n",
    "    <td> <font size=\"+1\"> True </font></td> \n",
    "    <td> <font size=\"+1\"> True </font></td> \n",
    "    <td> <font size=\"+1\"> False </font></td> \n",
    "\n",
    "</tr>\n",
    "\n",
    "<tr>\n",
    "    <td> <font size=\"+1\"> True </font></td>\n",
    "    <td> <font size=\"+1\"> False </font> </td> \n",
    "    <td> <font size=\"+1\"> False</font></td> \n",
    "    <td> <font size=\"+1\"> True </font></td> \n",
    "    <td> <font size=\"+1\"> False </font></td> \n",
    "\n",
    "</tr>\n",
    "<tr>\n",
    "    <td> <font size=\"+1\"> False </font></td>\n",
    "    <td> <font size=\"+1\"> True </font> </td> \n",
    "    <td> <font size=\"+1\"> False</font></td> \n",
    "    <td> <font size=\"+1\"> True </font></td> \n",
    "    <td> <font size=\"+1\"> True </font></td> \n",
    "\n",
    "</tr>\n",
    "\n",
    "<tr>\n",
    "    <td> <font size=\"+1\"> False </font></td>\n",
    "    <td> <font size=\"+1\"> False </font> </td> \n",
    "    <td> <font size=\"+1\"> False</font></td> \n",
    "    <td> <font size=\"+1\"> False </font></td> \n",
    "    <td> <font size=\"+1\"> True </font></td> \n",
    "\n",
    "</tr>\n",
    "\n",
    "</table>\n",
    "</html>"
   ]
  },
  {
   "cell_type": "markdown",
   "metadata": {},
   "source": [
    "Python also has two binary logical operators and one unary logical operator shown below."
   ]
  },
  {
   "cell_type": "markdown",
   "metadata": {},
   "source": [
    "<!DOCTYPE html>\n",
    "<html>\n",
    "<head>\n",
    "<style>\n",
    "table,  th, td {\n",
    "  border: 2px solid black;\n",
    "}\n",
    "    </style>\n",
    "\n",
    "<table>\n",
    "    <thead>\n",
    "        <tr>\n",
    "            <th><font size=\"+1\">Operator</font></th>\n",
    "            <th><font size=\"+1\"> Description </font></th>\n",
    "           \n",
    "   </thead>     \n",
    "\n",
    "<tr>\n",
    "    <td> <font size=\"+1\"> and </font></td>\n",
    "    <td> <font size=\"+1\"> Logical And </font> </td> \n",
    "</tr>\n",
    "\n",
    "<tr>\n",
    "    <td> <font size=\"+1\"> or </font></td>\n",
    "    <td> <font size=\"+1\"> Logical Or </font> </td> \n",
    "    \n",
    "</tr>\n",
    "<tr>\n",
    "    <td> <font size=\"+1\"> not </font></td>\n",
    "    <td> <font size=\"+1\"> Logical Not </font> </td> \n",
    "\n",
    "</tr>\n",
    "\n",
    "</table>\n",
    "</html>"
   ]
  },
  {
   "cell_type": "markdown",
   "metadata": {},
   "source": [
    "***Exercise 4 ***\n",
    "\n",
    "- Base on the exercise 3, let's adjust the program further by having the program able to match 2 passwords instead of 1.\n",
    "\n",
    "- Using the password with these values : \n",
    "   - 1st value is 10 \n",
    "   - 2nd value is 20 \n"
   ]
  },
  {
   "cell_type": "markdown",
   "metadata": {},
   "source": [
    "### Operator Precedence and Associativity\n",
    "\n",
    "***Operator Precedence***\n",
    "\n",
    "- Python operators have different levels of precedence\n",
    "- A good practice is to use parentheses to explicitly indicate the desired evaluation precedence\n",
    "- PEMDAS\n",
    "\n",
    "\n",
    "***Operator Associativity***\n",
    "\n",
    "1. Left associativity means that the expression is evaluated from left-to-right\n",
    "2. Right associativity means the expression is evaluated  from right-to-left"
   ]
  },
  {
   "cell_type": "code",
   "execution_count": null,
   "metadata": {},
   "outputs": [],
   "source": [
    "10/5/2"
   ]
  },
  {
   "cell_type": "code",
   "execution_count": null,
   "metadata": {},
   "outputs": [],
   "source": [
    "5**2**1"
   ]
  },
  {
   "cell_type": "markdown",
   "metadata": {},
   "source": [
    "***Note: Most arithmetic operators in Python are left associative except for exponentials which are right associative***"
   ]
  },
  {
   "cell_type": "markdown",
   "metadata": {},
   "source": [
    "<a id='numbers'></a>\n",
    "## Numbers in Python\n",
    "\n",
    "We're going to discuss two common ways in storing numbers in Python - floats and integers. You can read about [long](https://docs.python.org/2/library/functions.html#long) and [complex](https://docs.python.org/2/library/functions.html#complex) which are not common.\n",
    "\n",
    "Integers are whole numbers from -inf to inf.\n",
    "- -1\n",
    "- 1\n",
    "- 100\n",
    "\n",
    "Floats are numbers with decimals.\n",
    "- -1.0\n",
    "- 22.22\n",
    "- 0.1234567"
   ]
  },
  {
   "cell_type": "code",
   "execution_count": null,
   "metadata": {},
   "outputs": [],
   "source": [
    "answer = 20/8"
   ]
  },
  {
   "cell_type": "code",
   "execution_count": null,
   "metadata": {},
   "outputs": [],
   "source": [
    "print(answer)"
   ]
  },
  {
   "cell_type": "code",
   "execution_count": null,
   "metadata": {},
   "outputs": [],
   "source": [
    "float(20)"
   ]
  },
  {
   "cell_type": "markdown",
   "metadata": {},
   "source": [
    "If an integer or float is compatible, it can be converted to the other type."
   ]
  },
  {
   "cell_type": "code",
   "execution_count": null,
   "metadata": {},
   "outputs": [],
   "source": [
    "x_int = 1\n",
    "x_float = 1.0"
   ]
  },
  {
   "cell_type": "code",
   "execution_count": null,
   "metadata": {},
   "outputs": [],
   "source": [
    "float(x_int)"
   ]
  },
  {
   "cell_type": "code",
   "execution_count": null,
   "metadata": {},
   "outputs": [],
   "source": [
    "type(int(x_float))"
   ]
  },
  {
   "cell_type": "markdown",
   "metadata": {},
   "source": [
    "<a id='strings'></a>\n",
    "\n",
    "## Strings\n",
    "\n",
    "Strings are essentially any character combination in between quotes. They are most often used as a way of storing text."
   ]
  },
  {
   "cell_type": "code",
   "execution_count": null,
   "metadata": {},
   "outputs": [],
   "source": [
    "s = \"Hello world\"\n",
    "type(s)"
   ]
  },
  {
   "cell_type": "code",
   "execution_count": null,
   "metadata": {},
   "outputs": [],
   "source": [
    "# You can use '' or \"\" or \"\"\"\"\"\" to declare a string\n",
    "print('My favourite language is Python!')\n",
    "print(\"My favourite food is Python!\")\n",
    "print(\"\"\"\n",
    "I love Python so much\n",
    "that I want to write about it in multiple\n",
    "lines!\n",
    "\"\"\")"
   ]
  },
  {
   "cell_type": "code",
   "execution_count": 16,
   "metadata": {},
   "outputs": [
    {
     "ename": "SyntaxError",
     "evalue": "EOL while scanning string literal (<ipython-input-16-59940416d822>, line 2)",
     "output_type": "error",
     "traceback": [
      "\u001b[1;36m  File \u001b[1;32m\"<ipython-input-16-59940416d822>\"\u001b[1;36m, line \u001b[1;32m2\u001b[0m\n\u001b[1;33m    print('this will raise an error\")\u001b[0m\n\u001b[1;37m                                     ^\u001b[0m\n\u001b[1;31mSyntaxError\u001b[0m\u001b[1;31m:\u001b[0m EOL while scanning string literal\n"
     ]
    }
   ],
   "source": [
    "# But whichever quotation mark you choose, you have to be consistent\n",
    "print('this will raise an error\")"
   ]
  },
  {
   "cell_type": "code",
   "execution_count": null,
   "metadata": {},
   "outputs": [],
   "source": [
    "# Math operators do not work on strings\n",
    "a = 1\n",
    "print(a+1) # This works because addition works with integers\n",
    "\n",
    "b='abcdef'\n",
    "print(b+1) # This throws an error because addition does not work with strings"
   ]
  },
  {
   "cell_type": "markdown",
   "metadata": {},
   "source": [
    "***Exercise 5 *** \n",
    "\n",
    "Write a variable contains 20, another variable contains \"ten\". \n",
    "\n",
    "Use this formula:  20/\"ten\" "
   ]
  },
  {
   "cell_type": "markdown",
   "metadata": {},
   "source": [
    "Strings have a lot of associated methods and attributes that allow us to better understand and manipulate them."
   ]
  },
  {
   "cell_type": "code",
   "execution_count": 18,
   "metadata": {},
   "outputs": [
    {
     "data": {
      "text/plain": [
       "11"
      ]
     },
     "execution_count": 18,
     "metadata": {},
     "output_type": "execute_result"
    }
   ],
   "source": [
    "# Length of the string:\n",
    "s = \"Hello world\"\n",
    "len(s)"
   ]
  },
  {
   "cell_type": "code",
   "execution_count": 19,
   "metadata": {},
   "outputs": [
    {
     "name": "stdout",
     "output_type": "stream",
     "text": [
      "Hello test\n"
     ]
    }
   ],
   "source": [
    "# Replace an element of a string:\n",
    "s2 = s.replace(\"world\", \"test\")\n",
    "print(s2)"
   ]
  },
  {
   "cell_type": "code",
   "execution_count": 20,
   "metadata": {},
   "outputs": [
    {
     "name": "stdout",
     "output_type": "stream",
     "text": [
      "hello world\n",
      "HELLO WORLD\n"
     ]
    }
   ],
   "source": [
    "# We can also easily convert the string to upper or lower case\n",
    "print(s.lower())\n",
    "print(s.upper())"
   ]
  },
  {
   "cell_type": "code",
   "execution_count": null,
   "metadata": {},
   "outputs": [],
   "source": [
    "#Multiplying is very easy and straightforward.\n",
    "x = 'Hello '\n",
    "x * 5"
   ]
  },
  {
   "cell_type": "markdown",
   "metadata": {},
   "source": [
    "***Exercise 6***\n",
    "\n",
    "- Count the variable y = (\"happy\", \"day\")\n",
    "\n",
    "- Replace the sentence \"today is a happy happy day\" into \"today is a excited happy day\"\n",
    "\n"
   ]
  },
  {
   "cell_type": "markdown",
   "metadata": {},
   "source": [
    "<a id='lists'></a>\n",
    "\n",
    "\n",
    "## Lists\n",
    "\n",
    "Lists are a means of storing ordered data.\n",
    "\n",
    "Lists can be composed of ints, floats, strings, or other lists, as well as other data types we haven't covered yet."
   ]
  },
  {
   "cell_type": "code",
   "execution_count": null,
   "metadata": {},
   "outputs": [],
   "source": [
    "l = [1, 2, 3, 4]\n",
    "\n",
    "print(type(l))\n",
    "print(l)"
   ]
  },
  {
   "cell_type": "code",
   "execution_count": null,
   "metadata": {},
   "outputs": [],
   "source": [
    "# The contents of a variable can be reassigned to another variable:\n",
    "a = l"
   ]
  },
  {
   "cell_type": "code",
   "execution_count": null,
   "metadata": {},
   "outputs": [],
   "source": [
    "print(a)"
   ]
  },
  {
   "cell_type": "code",
   "execution_count": null,
   "metadata": {},
   "outputs": [],
   "source": [
    "# We can retrieve individual elements in \n",
    "# a list by calling it's index\n",
    "print(l[0])\n",
    "print(l[1])\n",
    "print(l[2])\n",
    "print(l[3])"
   ]
  },
  {
   "cell_type": "code",
   "execution_count": null,
   "metadata": {},
   "outputs": [],
   "source": [
    "# What happens when we try this?\n",
    "print(l[4])"
   ]
  },
  {
   "cell_type": "code",
   "execution_count": null,
   "metadata": {},
   "outputs": [],
   "source": [
    "# We can also replace elements in the same way\n",
    "l[0]=999\n",
    "print(l)"
   ]
  },
  {
   "cell_type": "code",
   "execution_count": null,
   "metadata": {},
   "outputs": [],
   "source": [
    "# List of strings:\n",
    "names = [\"Tom\", \"James\", \"Joe\"]\n",
    "print(names)"
   ]
  },
  {
   "cell_type": "code",
   "execution_count": 46,
   "metadata": {},
   "outputs": [
    {
     "name": "stdout",
     "output_type": "stream",
     "text": [
      "SUM of first  12 numbers is:  78\n"
     ]
    }
   ],
   "source": [
    "n = 12\n",
    "sum = 0\n",
    "for num in range(0, n+1, 1):\n",
    "    sum = sum+num\n",
    "print(\"SUM of first \", n, \"numbers is: \", sum )"
   ]
  },
  {
   "cell_type": "markdown",
   "metadata": {},
   "source": [
    "Lists also have several methods that allow us to alter them, such as the `.append()` method, which allows us to add another element to the end of a list."
   ]
  },
  {
   "cell_type": "code",
   "execution_count": null,
   "metadata": {},
   "outputs": [],
   "source": [
    "names.append(\"Chris\")"
   ]
  },
  {
   "cell_type": "code",
   "execution_count": null,
   "metadata": {},
   "outputs": [],
   "source": [
    "names"
   ]
  },
  {
   "cell_type": "code",
   "execution_count": null,
   "metadata": {},
   "outputs": [],
   "source": [
    "# Lists don't have to be the same type:\n",
    "l = [1, 'a', 1.0, True]\n",
    "print(l)"
   ]
  },
  {
   "cell_type": "markdown",
   "metadata": {},
   "source": [
    "***Exercise 7***\n",
    "\n",
    "- Create a list with these numbers [10,20,30,40]. Using the above list and add on this new word \"marks\" into this list. \n",
    "\n",
    "- Using the same list and print the word marks only\n"
   ]
  },
  {
   "cell_type": "markdown",
   "metadata": {},
   "source": [
    "Here's how we create a list from scratch:"
   ]
  },
  {
   "cell_type": "code",
   "execution_count": null,
   "metadata": {},
   "outputs": [],
   "source": [
    "# Create a new empty list:\n",
    "l = list()\n",
    "l = []\n",
    "\n",
    "# Add an element using append():\n",
    "l.append(1)\n",
    "l.append(2)\n",
    "l.append(3)\n",
    "\n",
    "print(l)"
   ]
  },
  {
   "cell_type": "markdown",
   "metadata": {},
   "source": [
    "Use the `.insert()` method to add values at specific indices."
   ]
  },
  {
   "cell_type": "code",
   "execution_count": null,
   "metadata": {},
   "outputs": [],
   "source": [
    "l.insert(0, \"a\")\n",
    "l.insert(3, \"b\")\n",
    "\n",
    "print(l)"
   ]
  },
  {
   "cell_type": "markdown",
   "metadata": {},
   "source": [
    "If a value already exists at an index where we're trying to insert the new value, the original value gets bumped to the next index.\n",
    "\n",
    "---\n",
    "The `.remove()` method can be used to remove specific values if they appear in a list."
   ]
  },
  {
   "cell_type": "code",
   "execution_count": null,
   "metadata": {},
   "outputs": [],
   "source": [
    "l.remove(1)\n",
    "print(l)"
   ]
  },
  {
   "cell_type": "markdown",
   "metadata": {},
   "source": [
    "On the other hand, the `del()` function can be used with a list and index to delete values."
   ]
  },
  {
   "cell_type": "code",
   "execution_count": null,
   "metadata": {},
   "outputs": [],
   "source": [
    "del l[3]\n",
    "\n",
    "print(l)"
   ]
  },
  {
   "cell_type": "markdown",
   "metadata": {},
   "source": [
    "<a id='dictionary'></a>\n",
    "\n",
    "\n",
    "## Dictionaries\n",
    "\n",
    "Dictionaries are a non-ordered Python data type. Instead of using an ordered index to access data stored in a dictionary, we use a system of key-value pairs.\n",
    "\n",
    "- A key is similar to a variable name. \n",
    "- A value is similar to the value assigned to the variable.\n",
    "\n",
    "Curly braces ({ }) enclose dictionaries. Note: You can also use curly braces to construct a set. The first input in a dictionary pair is the \"key.\" The second input in a dictionary pair is the \"value.\" The general format looks like this:"
   ]
  },
  {
   "cell_type": "code",
   "execution_count": null,
   "metadata": {},
   "outputs": [],
   "source": [
    "student = {\"name\" : \"Kim\",\n",
    "          \"age\" : 29,\n",
    "          \"sex\" : \"F\",}\n",
    "\n",
    "print(type(student))\n",
    "print(student)"
   ]
  },
  {
   "cell_type": "markdown",
   "metadata": {},
   "source": [
    "You can't have more than one key of the same name."
   ]
  },
  {
   "cell_type": "code",
   "execution_count": null,
   "metadata": {},
   "outputs": [],
   "source": [
    "# Value for parameter2 in the params dictionary:\n",
    "student[\"name\"]"
   ]
  },
  {
   "cell_type": "code",
   "execution_count": null,
   "metadata": {},
   "outputs": [],
   "source": [
    "# Adding a new dictionary entry:\n",
    "student[\"grade\"] = \"B\""
   ]
  },
  {
   "cell_type": "code",
   "execution_count": null,
   "metadata": {},
   "outputs": [],
   "source": [
    "# Print the entirety of the dictionary:\n",
    "print(student)"
   ]
  },
  {
   "cell_type": "code",
   "execution_count": null,
   "metadata": {},
   "outputs": [],
   "source": [
    "# Reassigning the value of a key-value pair in the dictionary:\n",
    "student[\"age\"] = 30\n",
    "student[\"grade\"] = \"B+\""
   ]
  },
  {
   "cell_type": "markdown",
   "metadata": {},
   "source": [
    "<a id='tuples'></a>\n",
    "\n",
    "\n",
    "## Tuples\n",
    "\n",
    "Tuples are similar to lists in that they store a sequence of various separate values. However, tuples are not mutable in that, once they are created, their values cannot be changed."
   ]
  },
  {
   "cell_type": "code",
   "execution_count": null,
   "metadata": {},
   "outputs": [],
   "source": [
    "# Example of a tuple\n",
    "point = (1, 5)\n",
    "print(point)\n",
    "print(type(point))"
   ]
  },
  {
   "cell_type": "code",
   "execution_count": null,
   "metadata": {},
   "outputs": [],
   "source": [
    "# Tuples are immutable, meaning that we can't add new elements to a \n",
    "# tuple like we can do with lists\n",
    "\n",
    "my_list = [1,2,3]\n",
    "my_tuple = (1,2,3)\n",
    "my_list.appened(4)\n",
    "print(my_list)"
   ]
  },
  {
   "cell_type": "code",
   "execution_count": null,
   "metadata": {},
   "outputs": [],
   "source": [
    "my_tuple.append(4) # This will raise an error"
   ]
  },
  {
   "cell_type": "markdown",
   "metadata": {},
   "source": [
    "Unpacking a variable is a common practice when iterating through Python data types. Unpacking essentially allows us to simultaneously set new variables to items in a list, tuple, or dictionary.  "
   ]
  },
  {
   "cell_type": "code",
   "execution_count": null,
   "metadata": {},
   "outputs": [],
   "source": [
    "# Unpacking:\n",
    "x, y = point\n",
    "\n",
    "print(x)\n",
    "print(y)"
   ]
  },
  {
   "cell_type": "markdown",
   "metadata": {},
   "source": [
    "<a id='none'></a>\n",
    "## None\n",
    "We reserve the keyword **None** for a data type that does nothing."
   ]
  },
  {
   "cell_type": "code",
   "execution_count": null,
   "metadata": {},
   "outputs": [],
   "source": [
    "# Observe how None is not the same as 0.\n",
    "\n",
    "## Integer\n",
    "x = 0\n",
    "x = x+1\n",
    "print(x)"
   ]
  },
  {
   "cell_type": "code",
   "execution_count": null,
   "metadata": {},
   "outputs": [],
   "source": [
    "## NoneType\n",
    "x = None\n",
    "x = x+1\n",
    "print(x)"
   ]
  },
  {
   "cell_type": "code",
   "execution_count": null,
   "metadata": {},
   "outputs": [],
   "source": [
    "# Consider, why do we need None as a data type?"
   ]
  },
  {
   "cell_type": "markdown",
   "metadata": {},
   "source": [
    "<a id='casting'></a>\n",
    "## Casting\n",
    "Converting variables from 1 data type to another"
   ]
  },
  {
   "cell_type": "code",
   "execution_count": null,
   "metadata": {},
   "outputs": [],
   "source": [
    "# Casting Int to Float\n",
    "y=3\n",
    "print(y)\n",
    "print(type(y))\n",
    "\n",
    "z=float(y)\n",
    "print(z)\n",
    "print(type(z))"
   ]
  },
  {
   "cell_type": "code",
   "execution_count": null,
   "metadata": {},
   "outputs": [],
   "source": [
    "# Casting Int to String\n",
    "y=3\n",
    "print(y)\n",
    "print(type(y))\n",
    "\n",
    "z=str(y)\n",
    "print(z)\n",
    "print(type(z))"
   ]
  },
  {
   "cell_type": "code",
   "execution_count": null,
   "metadata": {},
   "outputs": [],
   "source": [
    "y=3\n",
    "y+1"
   ]
  },
  {
   "cell_type": "code",
   "execution_count": null,
   "metadata": {},
   "outputs": [],
   "source": [
    "z=str(y)\n",
    "z+1"
   ]
  },
  {
   "cell_type": "markdown",
   "metadata": {
    "collapsed": true
   },
   "source": [
    "\n",
    "<a name=\"conclusion\"></a>\n",
    "## Lesson Summary\n",
    "\n",
    "\n",
    "Let's review what we learned today. We:\n",
    "\n",
    "- Discussed the overview of Python and Its Syntax.\n",
    "- Define integers, strings, tuples, lists, and dictionaries.\n",
    "- Variables, Operators and Arithmetic Expressions\n",
    "\n",
    "\n",
    "### Additional Questions?\n",
    "\n",
    "\n",
    "....\n"
   ]
  }
 ],
 "metadata": {
  "anaconda-cloud": {},
  "kernelspec": {
   "display_name": "Python 3",
   "language": "python",
   "name": "python3"
  },
  "language_info": {
   "codemirror_mode": {
    "name": "ipython",
    "version": 3
   },
   "file_extension": ".py",
   "mimetype": "text/x-python",
   "name": "python",
   "nbconvert_exporter": "python",
   "pygments_lexer": "ipython3",
   "version": "3.7.4"
  }
 },
 "nbformat": 4,
 "nbformat_minor": 1
}
